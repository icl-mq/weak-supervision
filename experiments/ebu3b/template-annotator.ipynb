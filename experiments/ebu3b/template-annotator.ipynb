{
 "cells": [
  {
   "cell_type": "code",
   "execution_count": 2,
   "metadata": {},
   "outputs": [
    {
     "name": "stdout",
     "output_type": "stream",
     "text": [
      "The autoreload extension is already loaded. To reload it, use:\n",
      "  %reload_ext autoreload\n"
     ]
    }
   ],
   "source": [
    "%load_ext autoreload\n",
    "%autoreload 2"
   ]
  },
  {
   "cell_type": "markdown",
   "metadata": {},
   "source": [
    "Here we define the regular expression based pattern(s) applied to each label, and the templates used to contextualise"
   ]
  },
  {
   "cell_type": "code",
   "execution_count": 4,
   "metadata": {},
   "outputs": [],
   "source": [
    "import uuid\n",
    "from weak_supervision import TemplateAnnotator, CharPretokenizer\n",
    "import spacy\n",
    "from skweak import utils\n",
    "\n",
    "nlp = spacy.blank('en')\n",
    "nlp.tokenizer = CharPretokenizer(nlp.vocab)\n",
    "\n",
    "patterns = {\n",
    "    # Building\n",
    "    \"BLD\": [\n",
    "        r\"[a-z][a-z0-9]+\"\n",
    "        ],\n",
    "    # Locations - mostly room and a couple of specific descriptions\n",
    "    \"ROOM\": [\n",
    "        r\"rm-[a-z0-9]+\",\n",
    "        r\"bsmt\",\n",
    "        r\"server room\"\n",
    "        ],\n",
    "    # Equipment, mostly class followed by identifier, vfd's are special as they\n",
    "    #            associated with other equipement, i.e. ahu-01-vsd sp we've split\n",
    "    #            them. This may or may not be optimal\n",
    "    \"EQUIP\": [\n",
    "        r\"(crac|sf|rf|ef|ah|chwp|compres|hwp|hx)(-?[0-9]+)+\",\n",
    "        r\"(vfd|fschw)\"\n",
    "        ],\n",
    "    # Points: any alphanumerics except vfd\n",
    "    \"POINT\": [\n",
    "        r\"(?!.*vfd)[a-z][a-z\\- _0-9]*\",\n",
    "        ],\n",
    "    \"*\": [\n",
    "        r\".*\",\n",
    "        ]\n",
    "}\n",
    "\n",
    "# first argument is name (used as key and for display), second is actual pattern\n",
    "template_annotators = [\n",
    "    TemplateAnnotator(\"<BLD>.<*>\", \"<BLD>.<*>\", patterns),\n",
    "    TemplateAnnotator(\"<*>.<EQUIP>.<*>\", \"<*>.<EQUIP>.<*>\", patterns),\n",
    "    TemplateAnnotator(\"<*>.<EQUIP>-<EQUIP>.<*>\", \"<*>.<EQUIP>-<EQUIP>.<*>\", patterns),\n",
    "    TemplateAnnotator(\"<*>.<EQUIP>-<EQUIP>\", \"<*>.<EQUIP>-<EQUIP>\", patterns),\n",
    "    TemplateAnnotator(\"<*>.<EQUIP>-<POINT>\", \"<*>.<EQUIP>-<POINT>\", patterns),\n",
    "    TemplateAnnotator(\"<*>.<ROOM>.<*>\", \"<*>.<ROOM>.<*>\", patterns),\n",
    "]\n",
    "\n",
    "# this is special, it is only applied when the previous rules don't match\n",
    "point_annotator = TemplateAnnotator(\"<*>.<POINT>\", \"<*>.<POINT>\", patterns, to_exclude=[lf.name for lf in template_annotators])\n"
   ]
  },
  {
   "cell_type": "markdown",
   "metadata": {},
   "source": [
    "Construct a pipeline"
   ]
  },
  {
   "cell_type": "code",
   "execution_count": 5,
   "metadata": {},
   "outputs": [
    {
     "data": {
      "text/plain": [
       "<skweak.base.CombinedAnnotator at 0x7fcca3786c40>"
      ]
     },
     "execution_count": 5,
     "metadata": {},
     "output_type": "execute_result"
    }
   ],
   "source": [
    "from skweak import base\n",
    "\n",
    "pipeline = base.CombinedAnnotator()\n",
    "pipeline.add_annotators(*template_annotators)\n",
    "pipeline.add_annotator(point_annotator)"
   ]
  },
  {
   "cell_type": "markdown",
   "metadata": {},
   "source": [
    "This is useful to test the label functions to ensure they match as expected. "
   ]
  },
  {
   "cell_type": "code",
   "execution_count": 6,
   "metadata": {},
   "outputs": [
    {
     "name": "stdout",
     "output_type": "stream",
     "text": [
      "<BLD>.<*>\n"
     ]
    },
    {
     "data": {
      "text/html": [
       "<span class=\"tex2jax_ignore\"><div class=\"entities\" style=\"line-height: 2.5; direction: ltr\">\n",
       "<mark class=\"entity\" style=\"background: #ddd; padding: 0.45em 0.6em; margin: 0 0.25em; line-height: 1; border-radius: 0.35em;\">\n",
       "    ebu3b\n",
       "    <span style=\"font-size: 0.8em; font-weight: bold; line-height: 1; border-radius: 0.35em; vertical-align: middle; margin-left: 0.5rem\">BLD</span>\n",
       "</mark>\n",
       ".chwp3-vfd.dir-sts</div></span>"
      ],
      "text/plain": [
       "<IPython.core.display.HTML object>"
      ]
     },
     "metadata": {},
     "output_type": "display_data"
    },
    {
     "name": "stdout",
     "output_type": "stream",
     "text": [
      "<*>.<EQUIP>.<*>\n"
     ]
    },
    {
     "data": {
      "text/html": [
       "<span class=\"tex2jax_ignore\"><div class=\"entities\" style=\"line-height: 2.5; direction: ltr\">ebu3b.chwp3-vfd.dir-sts</div></span>"
      ],
      "text/plain": [
       "<IPython.core.display.HTML object>"
      ]
     },
     "metadata": {},
     "output_type": "display_data"
    },
    {
     "name": "stdout",
     "output_type": "stream",
     "text": [
      "<*>.<EQUIP>-<EQUIP>.<*>\n"
     ]
    },
    {
     "data": {
      "text/html": [
       "<span class=\"tex2jax_ignore\"><div class=\"entities\" style=\"line-height: 2.5; direction: ltr\">ebu3b.\n",
       "<mark class=\"entity\" style=\"background: #ddd; padding: 0.45em 0.6em; margin: 0 0.25em; line-height: 1; border-radius: 0.35em;\">\n",
       "    chwp3\n",
       "    <span style=\"font-size: 0.8em; font-weight: bold; line-height: 1; border-radius: 0.35em; vertical-align: middle; margin-left: 0.5rem\">EQUIP</span>\n",
       "</mark>\n",
       "-\n",
       "<mark class=\"entity\" style=\"background: #ddd; padding: 0.45em 0.6em; margin: 0 0.25em; line-height: 1; border-radius: 0.35em;\">\n",
       "    vfd\n",
       "    <span style=\"font-size: 0.8em; font-weight: bold; line-height: 1; border-radius: 0.35em; vertical-align: middle; margin-left: 0.5rem\">EQUIP</span>\n",
       "</mark>\n",
       ".dir-sts</div></span>"
      ],
      "text/plain": [
       "<IPython.core.display.HTML object>"
      ]
     },
     "metadata": {},
     "output_type": "display_data"
    },
    {
     "name": "stdout",
     "output_type": "stream",
     "text": [
      "<*>.<EQUIP>-<EQUIP>\n"
     ]
    },
    {
     "data": {
      "text/html": [
       "<span class=\"tex2jax_ignore\"><div class=\"entities\" style=\"line-height: 2.5; direction: ltr\">ebu3b.chwp3-vfd.dir-sts</div></span>"
      ],
      "text/plain": [
       "<IPython.core.display.HTML object>"
      ]
     },
     "metadata": {},
     "output_type": "display_data"
    },
    {
     "name": "stdout",
     "output_type": "stream",
     "text": [
      "<*>.<EQUIP>-<POINT>\n"
     ]
    },
    {
     "data": {
      "text/html": [
       "<span class=\"tex2jax_ignore\"><div class=\"entities\" style=\"line-height: 2.5; direction: ltr\">ebu3b.chwp3-vfd.dir-sts</div></span>"
      ],
      "text/plain": [
       "<IPython.core.display.HTML object>"
      ]
     },
     "metadata": {},
     "output_type": "display_data"
    },
    {
     "name": "stdout",
     "output_type": "stream",
     "text": [
      "<*>.<ROOM>.<*>\n"
     ]
    },
    {
     "data": {
      "text/html": [
       "<span class=\"tex2jax_ignore\"><div class=\"entities\" style=\"line-height: 2.5; direction: ltr\">ebu3b.chwp3-vfd.dir-sts</div></span>"
      ],
      "text/plain": [
       "<IPython.core.display.HTML object>"
      ]
     },
     "metadata": {},
     "output_type": "display_data"
    }
   ],
   "source": [
    "#text = \"ebu3b.rm-1200c..zn-t\"\n",
    "text = \"ebu3b.chwp3-vfd.dir-sts\"        # \"<*>.<EQUIP>-<EQUIP>.<*>\"\n",
    "#text = \"ebu3b.rm-1208..ef2-c\"           # \"<*>.<EQUIP>-<POINT>\"\n",
    "#text = \"ebu3b.fschw.chwp3-vfd\"         # \"<*>.<EQUIP>-<EQUIP>\"\n",
    "\n",
    "doc = nlp(text)\n",
    "for lf in template_annotators:\n",
    "    print(lf.name)\n",
    "    utils.display_entities(lf(doc), lf.name)"
   ]
  },
  {
   "cell_type": "markdown",
   "metadata": {},
   "source": [
    "Load the BMS dataset and convert to spacy documents with a custom character tokeniser"
   ]
  },
  {
   "cell_type": "code",
   "execution_count": 7,
   "metadata": {},
   "outputs": [],
   "source": [
    "# load corpus and tokenise\n",
    "import csv\n",
    "\n",
    "docs = []\n",
    "with open('experiments/ebu3b/eub_string.txt') as f:\n",
    "    reader = csv.reader(f)\n",
    "    for row in reader:\n",
    "        docs.append(nlp(row[0]))"
   ]
  },
  {
   "cell_type": "markdown",
   "metadata": {},
   "source": [
    "Apply the label functions to each document"
   ]
  },
  {
   "cell_type": "code",
   "execution_count": 8,
   "metadata": {},
   "outputs": [
    {
     "name": "stderr",
     "output_type": "stream",
     "text": [
      "100%|██████████| 1074/1074 [00:04<00:00, 224.78it/s]\n"
     ]
    }
   ],
   "source": [
    "from tqdm import tqdm\n",
    "docs=list(tqdm(pipeline.pipe(docs), total=len(docs)))"
   ]
  },
  {
   "cell_type": "markdown",
   "metadata": {},
   "source": [
    "Randomly sample some examples to estimate coverage."
   ]
  },
  {
   "cell_type": "code",
   "execution_count": 9,
   "metadata": {},
   "outputs": [
    {
     "data": {
      "text/html": [
       "<span class=\"tex2jax_ignore\"><div class=\"entities\" style=\"line-height: 2.5; direction: ltr\">\n",
       "<mark class=\"entity\" style=\"background: #ddd; padding: 0.45em 0.6em; margin: 0 0.25em; line-height: 1; border-radius: 0.35em;\">\n",
       "    ebu3b\n",
       "    <span style=\"font-size: 0.8em; font-weight: bold; line-height: 1; border-radius: 0.35em; vertical-align: middle; margin-left: 0.5rem\">BLD</span>\n",
       "</mark>\n",
       ".\n",
       "<mark class=\"entity\" style=\"background: #ddd; padding: 0.45em 0.6em; margin: 0 0.25em; line-height: 1; border-radius: 0.35em;\">\n",
       "    sf4\n",
       "    <span style=\"font-size: 0.8em; font-weight: bold; line-height: 1; border-radius: 0.35em; vertical-align: middle; margin-left: 0.5rem\">EQUIP</span>\n",
       "</mark>\n",
       ".\n",
       "<mark class=\"entity\" style=\"background: #ddd; padding: 0.45em 0.6em; margin: 0 0.25em; line-height: 1; border-radius: 0.35em;\">\n",
       "    direction\n",
       "    <span style=\"font-size: 0.8em; font-weight: bold; line-height: 1; border-radius: 0.35em; vertical-align: middle; margin-left: 0.5rem\">POINT</span>\n",
       "</mark>\n",
       "</div></span>"
      ],
      "text/plain": [
       "<IPython.core.display.HTML object>"
      ]
     },
     "metadata": {},
     "output_type": "display_data"
    },
    {
     "data": {
      "text/html": [
       "<span class=\"tex2jax_ignore\"><div class=\"entities\" style=\"line-height: 2.5; direction: ltr\">\n",
       "<mark class=\"entity\" style=\"background: #ddd; padding: 0.45em 0.6em; margin: 0 0.25em; line-height: 1; border-radius: 0.35em;\">\n",
       "    ebu3b\n",
       "    <span style=\"font-size: 0.8em; font-weight: bold; line-height: 1; border-radius: 0.35em; vertical-align: middle; margin-left: 0.5rem\">BLD</span>\n",
       "</mark>\n",
       ".\n",
       "<mark class=\"entity\" style=\"background: #ddd; padding: 0.45em 0.6em; margin: 0 0.25em; line-height: 1; border-radius: 0.35em;\">\n",
       "    rm-3106\n",
       "    <span style=\"font-size: 0.8em; font-weight: bold; line-height: 1; border-radius: 0.35em; vertical-align: middle; margin-left: 0.5rem\">ROOM</span>\n",
       "</mark>\n",
       "..\n",
       "<mark class=\"entity\" style=\"background: #ddd; padding: 0.45em 0.6em; margin: 0 0.25em; line-height: 1; border-radius: 0.35em;\">\n",
       "    dpr-c\n",
       "    <span style=\"font-size: 0.8em; font-weight: bold; line-height: 1; border-radius: 0.35em; vertical-align: middle; margin-left: 0.5rem\">POINT</span>\n",
       "</mark>\n",
       "</div></span>"
      ],
      "text/plain": [
       "<IPython.core.display.HTML object>"
      ]
     },
     "metadata": {},
     "output_type": "display_data"
    },
    {
     "data": {
      "text/html": [
       "<span class=\"tex2jax_ignore\"><div class=\"entities\" style=\"line-height: 2.5; direction: ltr\">\n",
       "<mark class=\"entity\" style=\"background: #ddd; padding: 0.45em 0.6em; margin: 0 0.25em; line-height: 1; border-radius: 0.35em;\">\n",
       "    ebu3b\n",
       "    <span style=\"font-size: 0.8em; font-weight: bold; line-height: 1; border-radius: 0.35em; vertical-align: middle; margin-left: 0.5rem\">BLD</span>\n",
       "</mark>\n",
       ".\n",
       "<mark class=\"entity\" style=\"background: #ddd; padding: 0.45em 0.6em; margin: 0 0.25em; line-height: 1; border-radius: 0.35em;\">\n",
       "    rm-3111\n",
       "    <span style=\"font-size: 0.8em; font-weight: bold; line-height: 1; border-radius: 0.35em; vertical-align: middle; margin-left: 0.5rem\">ROOM</span>\n",
       "</mark>\n",
       "..\n",
       "<mark class=\"entity\" style=\"background: #ddd; padding: 0.45em 0.6em; margin: 0 0.25em; line-height: 1; border-radius: 0.35em;\">\n",
       "    actclgsp\n",
       "    <span style=\"font-size: 0.8em; font-weight: bold; line-height: 1; border-radius: 0.35em; vertical-align: middle; margin-left: 0.5rem\">POINT</span>\n",
       "</mark>\n",
       "</div></span>"
      ],
      "text/plain": [
       "<IPython.core.display.HTML object>"
      ]
     },
     "metadata": {},
     "output_type": "display_data"
    },
    {
     "data": {
      "text/html": [
       "<span class=\"tex2jax_ignore\"><div class=\"entities\" style=\"line-height: 2.5; direction: ltr\">\n",
       "<mark class=\"entity\" style=\"background: #ddd; padding: 0.45em 0.6em; margin: 0 0.25em; line-height: 1; border-radius: 0.35em;\">\n",
       "    ebu3b\n",
       "    <span style=\"font-size: 0.8em; font-weight: bold; line-height: 1; border-radius: 0.35em; vertical-align: middle; margin-left: 0.5rem\">BLD</span>\n",
       "</mark>\n",
       ".\n",
       "<mark class=\"entity\" style=\"background: #ddd; padding: 0.45em 0.6em; margin: 0 0.25em; line-height: 1; border-radius: 0.35em;\">\n",
       "    rm-1132\n",
       "    <span style=\"font-size: 0.8em; font-weight: bold; line-height: 1; border-radius: 0.35em; vertical-align: middle; margin-left: 0.5rem\">ROOM</span>\n",
       "</mark>\n",
       "..\n",
       "<mark class=\"entity\" style=\"background: #ddd; padding: 0.45em 0.6em; margin: 0 0.25em; line-height: 1; border-radius: 0.35em;\">\n",
       "    dpr-c\n",
       "    <span style=\"font-size: 0.8em; font-weight: bold; line-height: 1; border-radius: 0.35em; vertical-align: middle; margin-left: 0.5rem\">POINT</span>\n",
       "</mark>\n",
       "</div></span>"
      ],
      "text/plain": [
       "<IPython.core.display.HTML object>"
      ]
     },
     "metadata": {},
     "output_type": "display_data"
    },
    {
     "data": {
      "text/html": [
       "<span class=\"tex2jax_ignore\"><div class=\"entities\" style=\"line-height: 2.5; direction: ltr\">\n",
       "<mark class=\"entity\" style=\"background: #ddd; padding: 0.45em 0.6em; margin: 0 0.25em; line-height: 1; border-radius: 0.35em;\">\n",
       "    ebu3b\n",
       "    <span style=\"font-size: 0.8em; font-weight: bold; line-height: 1; border-radius: 0.35em; vertical-align: middle; margin-left: 0.5rem\">BLD</span>\n",
       "</mark>\n",
       ".hw-sys.\n",
       "<mark class=\"entity\" style=\"background: #ddd; padding: 0.45em 0.6em; margin: 0 0.25em; line-height: 1; border-radius: 0.35em;\">\n",
       "    dhw-vlv\n",
       "    <span style=\"font-size: 0.8em; font-weight: bold; line-height: 1; border-radius: 0.35em; vertical-align: middle; margin-left: 0.5rem\">POINT</span>\n",
       "</mark>\n",
       "</div></span>"
      ],
      "text/plain": [
       "<IPython.core.display.HTML object>"
      ]
     },
     "metadata": {},
     "output_type": "display_data"
    }
   ],
   "source": [
    "import random \n",
    "\n",
    "for doc in random.sample(docs, 5):   \n",
    "    utils.display_entities(doc, \"*\")"
   ]
  },
  {
   "cell_type": "markdown",
   "metadata": {},
   "source": [
    "Run the aggregation model over the labelled documents"
   ]
  },
  {
   "cell_type": "code",
   "execution_count": 10,
   "metadata": {},
   "outputs": [
    {
     "name": "stdout",
     "output_type": "stream",
     "text": [
      "Starting iteration 1\n",
      "Number of processed documents: 1000\n",
      "Finished E-step with 1066 documents\n",
      "Starting iteration 2\n"
     ]
    },
    {
     "name": "stderr",
     "output_type": "stream",
     "text": [
      "         1        4714.3815             +nan\n"
     ]
    },
    {
     "name": "stdout",
     "output_type": "stream",
     "text": [
      "Number of processed documents: 1000\n",
      "Finished E-step with 1066 documents\n",
      "Starting iteration 3\n"
     ]
    },
    {
     "name": "stderr",
     "output_type": "stream",
     "text": [
      "         2        4726.5188         +12.1373\n"
     ]
    },
    {
     "name": "stdout",
     "output_type": "stream",
     "text": [
      "Number of processed documents: 1000\n",
      "Finished E-step with 1066 documents\n",
      "Starting iteration 4\n"
     ]
    },
    {
     "name": "stderr",
     "output_type": "stream",
     "text": [
      "         3        4730.3866          +3.8678\n"
     ]
    },
    {
     "name": "stdout",
     "output_type": "stream",
     "text": [
      "Number of processed documents: 1000\n",
      "Finished E-step with 1066 documents\n"
     ]
    },
    {
     "name": "stderr",
     "output_type": "stream",
     "text": [
      "         4        4732.6319          +2.2454\n"
     ]
    }
   ],
   "source": [
    "# aggregate\n",
    "from skweak import aggregation\n",
    "\n",
    "hmm = aggregation.HMM(\"hmm\", [\"BLD\", \"ROOM\", \"EQUIP\", \"POINT\"], sequence_labelling=False)\n",
    "docs = hmm.fit_and_aggregate(docs)"
   ]
  },
  {
   "cell_type": "markdown",
   "metadata": {},
   "source": [
    "Load the gold annotations and generate comparable list of gold and predicted entities"
   ]
  },
  {
   "cell_type": "code",
   "execution_count": 11,
   "metadata": {},
   "outputs": [],
   "source": [
    "import json\n",
    "\n",
    "gold_spans = {}\n",
    "predicted_spans = {}\n",
    "with open('experiments/ebu3b/annotations.jsonl') as f:\n",
    "    for example in f:\n",
    "        example=json.loads(example)\n",
    "        \n",
    "        doc = nlp(example['text'])\n",
    "        doc = hmm(pipeline(doc))\n",
    "\n",
    "        spans = [(span.text, span.label_) for span in doc.spans['hmm']]\n",
    "        predicted_spans[doc.text] = set(spans)\n",
    "\n",
    "        spans = []\n",
    "        for span in example['spans']:\n",
    "            #spans.append((span['start'],span['end'],span['label']))\n",
    "            spans.append((example['text'][span['start']:span['end']],span['label']))\n",
    "        gold_spans[example['text']] = set(spans)"
   ]
  },
  {
   "cell_type": "markdown",
   "metadata": {},
   "source": [
    "Compute metrics"
   ]
  },
  {
   "cell_type": "code",
   "execution_count": 12,
   "metadata": {},
   "outputs": [],
   "source": [
    "TP,FP,FN = 0,0,0\n",
    "\n",
    "for key in predicted_spans.keys():\n",
    "    for span in gold_spans[key]:\n",
    "        if span in predicted_spans[key]:\n",
    "            TP += 1\n",
    "        else:\n",
    "            FN += 1\n",
    "\n",
    "    for span in predicted_spans[key]:\n",
    "        if span not in gold_spans[key]:\n",
    "            FP += 1"
   ]
  },
  {
   "cell_type": "code",
   "execution_count": 13,
   "metadata": {},
   "outputs": [
    {
     "data": {
      "text/plain": [
       "(0.9943767572633552, 0.9866707997520149, 0.9905087910378092)"
      ]
     },
     "execution_count": 13,
     "metadata": {},
     "output_type": "execute_result"
    }
   ],
   "source": [
    "precision = TP / (TP + FP) if TP > 0 else 0\n",
    "recall = TP / (TP + FN) if TP > 0 else 0\n",
    "f1 = 2 * precision * recall / (precision + recall) if precision + recall > 0 else 0\n",
    "\n",
    "precision, recall, f1"
   ]
  },
  {
   "cell_type": "markdown",
   "metadata": {},
   "source": [
    "Sample output of aggregation model"
   ]
  },
  {
   "cell_type": "code",
   "execution_count": 14,
   "metadata": {},
   "outputs": [
    {
     "data": {
      "text/html": [
       "<span class=\"tex2jax_ignore\"><div class=\"entities\" style=\"line-height: 2.5; direction: ltr\">\n",
       "<mark class=\"entity\" style=\"background: #ddd; padding: 0.45em 0.6em; margin: 0 0.25em; line-height: 1; border-radius: 0.35em;\">\n",
       "    ebu3b\n",
       "    <span style=\"font-size: 0.8em; font-weight: bold; line-height: 1; border-radius: 0.35em; vertical-align: middle; margin-left: 0.5rem\">BLD</span>\n",
       "</mark>\n",
       ".\n",
       "<mark class=\"entity\" style=\"background: #ddd; padding: 0.45em 0.6em; margin: 0 0.25em; line-height: 1; border-radius: 0.35em;\">\n",
       "    fschw\n",
       "    <span style=\"font-size: 0.8em; font-weight: bold; line-height: 1; border-radius: 0.35em; vertical-align: middle; margin-left: 0.5rem\">EQUIP</span>\n",
       "</mark>\n",
       ".\n",
       "<mark class=\"entity\" style=\"background: #ddd; padding: 0.45em 0.6em; margin: 0 0.25em; line-height: 1; border-radius: 0.35em;\">\n",
       "    chwp3\n",
       "    <span style=\"font-size: 0.8em; font-weight: bold; line-height: 1; border-radius: 0.35em; vertical-align: middle; margin-left: 0.5rem\">EQUIP</span>\n",
       "</mark>\n",
       "-\n",
       "<mark class=\"entity\" style=\"background: #ddd; padding: 0.45em 0.6em; margin: 0 0.25em; line-height: 1; border-radius: 0.35em;\">\n",
       "    vfd\n",
       "    <span style=\"font-size: 0.8em; font-weight: bold; line-height: 1; border-radius: 0.35em; vertical-align: middle; margin-left: 0.5rem\">EQUIP</span>\n",
       "</mark>\n",
       "</div></span>"
      ],
      "text/plain": [
       "<IPython.core.display.HTML object>"
      ]
     },
     "metadata": {},
     "output_type": "display_data"
    }
   ],
   "source": [
    "#text = \"ebu3b.crac-4.main-fan\"\n",
    "text = \"ebu3b.fschw.chwp3-vfd\"\n",
    "\n",
    "doc = nlp(text)\n",
    "doc = hmm(pipeline(doc))\n",
    "\n",
    "utils.display_entities(doc, \"hmm\")"
   ]
  },
  {
   "cell_type": "markdown",
   "metadata": {},
   "source": [
    "Summary of entities extracted"
   ]
  },
  {
   "cell_type": "code",
   "execution_count": 16,
   "metadata": {},
   "outputs": [
    {
     "name": "stdout",
     "output_type": "stream",
     "text": [
      "[('BLD', 1), ('ROOM', 243), ('POINT', 126), ('EQUIP', 25)]\n"
     ]
    }
   ],
   "source": [
    "from collections import defaultdict\n",
    "\n",
    "entities = defaultdict(set)\n",
    "\n",
    "for doc in docs:\n",
    "    for text, label in [(span.text, span.label_) for span in doc.spans['hmm']]:\n",
    "        entities[label].add(text)\n",
    "\n",
    "print([(l,len(e)) for l,e in entities.items()])\n",
    "    "
   ]
  },
  {
   "cell_type": "markdown",
   "metadata": {},
   "source": [
    "Enumerate the point entities. These now need to be mapped to specific point classes"
   ]
  },
  {
   "cell_type": "code",
   "execution_count": 19,
   "metadata": {},
   "outputs": [
    {
     "data": {
      "text/plain": [
       "['acc-time',\n",
       " 'actclgsp',\n",
       " 'acthtgsp',\n",
       " 'ai1-actual',\n",
       " 'ai2-actual',\n",
       " 'alm',\n",
       " 'ao1-cmd',\n",
       " 'boxmode',\n",
       " 'bsmt avg clg-pid1',\n",
       " 'c',\n",
       " 'chw-lead',\n",
       " 'chwp-db',\n",
       " 'clgmaxflo',\n",
       " 'clgminflo',\n",
       " 'clgpid-o',\n",
       " 'co2-hi alarm',\n",
       " 'co2-level',\n",
       " 'commonsp',\n",
       " 'compres1',\n",
       " 'compres2',\n",
       " 'curr-lim',\n",
       " 'current',\n",
       " 'cwdp-sp',\n",
       " 'dasp hi out',\n",
       " 'dasp-hi in',\n",
       " 'dec-time',\n",
       " 'dhw-vlv',\n",
       " 'dir-cmd',\n",
       " 'dir-sts',\n",
       " 'direct-cmd',\n",
       " 'direction',\n",
       " 'dly',\n",
       " 'dmpr-pos',\n",
       " 'dmprpos',\n",
       " 'do1 cmd',\n",
       " 'do2 cmd',\n",
       " 'dpr-c',\n",
       " 'dpr-cmd',\n",
       " 'drv-rdy',\n",
       " 'econocyc',\n",
       " 'ena-sts',\n",
       " 'f',\n",
       " 'fan-c',\n",
       " 'fault',\n",
       " 'flt reset',\n",
       " 'flt-rst',\n",
       " 'flt-sts',\n",
       " 'fltr-dp',\n",
       " 'freq-output',\n",
       " 'glycool',\n",
       " 'heating',\n",
       " 'hi-head1',\n",
       " 'hi-humd',\n",
       " 'hoa-sts',\n",
       " 'htgflow',\n",
       " 'htgpid-o',\n",
       " 'humd-pan',\n",
       " 'humd-tol',\n",
       " 'humdfier',\n",
       " 'humidity',\n",
       " 'hwdp-pid',\n",
       " 'inv-byps',\n",
       " 'iso',\n",
       " 'k-energy',\n",
       " 'ld-sw',\n",
       " 'leak-shutdown',\n",
       " 'lo-humd',\n",
       " 'lo-temp',\n",
       " 'local-1',\n",
       " 'local-2',\n",
       " 'lohum-stpt',\n",
       " 'loss-air',\n",
       " 'loss-h2o',\n",
       " 'lotemp-stpt',\n",
       " 'main-fan',\n",
       " 'mtw-dp load shed',\n",
       " 'mtws-t',\n",
       " 'no-e-pow',\n",
       " 'occ-cmd',\n",
       " 'occ-s',\n",
       " 'occ-sen',\n",
       " 'occhtgfl',\n",
       " 'off-locl',\n",
       " 'osa high span',\n",
       " 'pan lock',\n",
       " 'pct-act',\n",
       " 'pid gain',\n",
       " 'pid-ctrl',\n",
       " 'pm2ti',\n",
       " 'pm6pb',\n",
       " 'pm6ti',\n",
       " 'pm9edb',\n",
       " 'pm9pb',\n",
       " 'pm9ti',\n",
       " 'pow-loss',\n",
       " 'power',\n",
       " 'ra-ll',\n",
       " 'ref-1',\n",
       " 'ref-2',\n",
       " 'rh-vlv',\n",
       " 'rm-h',\n",
       " 'run enable',\n",
       " 'run-time',\n",
       " 'sa-hl',\n",
       " 'shortcyc',\n",
       " 'smoke',\n",
       " 'ss',\n",
       " 'stages',\n",
       " 'standby',\n",
       " 'status',\n",
       " 'stby-fan',\n",
       " 'sts',\n",
       " 'sup-flow',\n",
       " 'supflo-sp',\n",
       " 'supflow',\n",
       " 't-occ',\n",
       " 'temp',\n",
       " 'temp-tol',\n",
       " 'tempsetf',\n",
       " 'torque',\n",
       " 'unit-loc',\n",
       " 'unit-run',\n",
       " 'unit-sts',\n",
       " 'voltage',\n",
       " 'w-c-adj',\n",
       " 'zn-t']"
      ]
     },
     "execution_count": 19,
     "metadata": {},
     "output_type": "execute_result"
    }
   ],
   "source": [
    "sorted(entities['POINT'])"
   ]
  },
  {
   "cell_type": "markdown",
   "metadata": {},
   "source": [
    "Enumerate the equipment entities. These now need to be mapped to specific equipment classes"
   ]
  },
  {
   "cell_type": "code",
   "execution_count": 20,
   "metadata": {},
   "outputs": [
    {
     "data": {
      "text/plain": [
       "['ah-1',\n",
       " 'ah1-1',\n",
       " 'chwp1',\n",
       " 'chwp2',\n",
       " 'chwp3',\n",
       " 'chwp4',\n",
       " 'crac-1',\n",
       " 'crac-2',\n",
       " 'crac-3',\n",
       " 'crac-4',\n",
       " 'ef2',\n",
       " 'ef5',\n",
       " 'fschw',\n",
       " 'hwp1',\n",
       " 'hwp2',\n",
       " 'hx2',\n",
       " 'rf1',\n",
       " 'rf2',\n",
       " 'rf3',\n",
       " 'rf4',\n",
       " 'sf1',\n",
       " 'sf2',\n",
       " 'sf3',\n",
       " 'sf4',\n",
       " 'vfd']"
      ]
     },
     "execution_count": 20,
     "metadata": {},
     "output_type": "execute_result"
    }
   ],
   "source": [
    "sorted(entities['EQUIP'])"
   ]
  },
  {
   "cell_type": "code",
   "execution_count": null,
   "metadata": {},
   "outputs": [],
   "source": []
  },
  {
   "cell_type": "code",
   "execution_count": null,
   "metadata": {},
   "outputs": [],
   "source": []
  }
 ],
 "metadata": {
  "kernelspec": {
   "display_name": "Python 3.8.10 ('.venv': venv)",
   "language": "python",
   "name": "python3"
  },
  "language_info": {
   "codemirror_mode": {
    "name": "ipython",
    "version": 3
   },
   "file_extension": ".py",
   "mimetype": "text/x-python",
   "name": "python",
   "nbconvert_exporter": "python",
   "pygments_lexer": "ipython3",
   "version": "3.8.10"
  },
  "orig_nbformat": 4,
  "vscode": {
   "interpreter": {
    "hash": "a0167138abe28b1fbdba92c6b3519af3dfc1dbcf8055821c846929bf768ecca8"
   }
  }
 },
 "nbformat": 4,
 "nbformat_minor": 2
}
